{
 "cells": [
  {
   "cell_type": "markdown",
   "id": "a810a1e5",
   "metadata": {},
   "source": [
    "Expansión del stent según la temperatura "
   ]
  },
  {
   "cell_type": "markdown",
   "id": "3485d516",
   "metadata": {},
   "source": [
    "Se emplea un modelo fenomenológico tipo sigmoide para describir la fracción de transformación de fase, acoplado con una ley de mezclas para interpolar propiedades térmicas, dentro del marco de la mecánica del continuo."
   ]
  },
  {
   "cell_type": "markdown",
   "id": "569463bd",
   "metadata": {},
   "source": [
    "\n",
    "\n",
    "## *1. Fundamentos de la Transformación de Fases en Nitinol*\n",
    "\n",
    "El *nitinol* es una aleación con memoria de forma que puede existir en dos fases cristalinas principales:\n",
    "\n",
    "- *Martensita (baja temperatura, baja rigidez, deformable)*  \n",
    "- *Austenita (alta temperatura, más rígida, fase original del stent)*\n",
    "\n",
    "La transformación entre estas fases no ocurre instantáneamente sino en un *rango de temperatura*, lo que da lugar a una fracción de transformación que varía suavemente con la temperatura.\n",
    "\n",
    "### *1.1. Temperaturas Características de la Transformación*\n",
    "\n",
    "El cambio de fase en nitinol ocurre dentro de un intervalo térmico determinado por cuatro temperaturas clave:\n",
    "\n",
    "- \\( M_s \\) – Temperatura de inicio de la transformación *a martensita*  \n",
    "- \\( M_f \\) – Temperatura final de la transformación *a martensita*  \n",
    "- \\( A_s \\) – Temperatura de inicio de la transformación *a austenita*  \n",
    "- \\( A_f \\) – Temperatura final de la transformación *a austenita*  \n",
    "\n",
    "Cuando se calienta el material, la martensita se transforma en austenita en el intervalo \\( [A_s, A_f] \\).  \n",
    "Cuando se enfría, la austenita se transforma en martensita en el intervalo \\( [M_s, M_f] \\).\n",
    "\n",
    "## *2. Expansión Térmica Basada en la Transformación de Fase*\n",
    "El nitinol tiene *dos coeficientes de expansión térmica* distintos:  \n",
    "- *Martensita*: \\( \\alpha_m \\) (pequeño, aproximadamente \\( 1 \\times 10^{-6} \\, \\text{°C}^{-1} \\))  \n",
    "- *Austenita*: \\( \\alpha_a \\) (mayor, aproximadamente \\( 6 \\times 10^{-6} \\, \\text{°C}^{-1} \\))  \n",
    "\n",
    "Como el material está compuesto por una mezcla de estas dos fases según la fracción \\( \\xi(T) \\), el *coeficiente de expansión térmica efectivo* del nitinol se define como:\n",
    "\n",
    "\\xi(T) = \\frac{1}{2} \\left[ 1 + \\tanh\\left( \\frac{T - M_s}{\\Delta T} \\right) \\right]\n",
    "\n",
    "## *3. Expresión Final para la Expansión Radial*\n",
    "Dado un stent de radio inicial \\( r_0 \\), el cambio de radio en función de la temperatura es:\n",
    "\n",
    "\\[\n",
    "\\Delta r = r_0 \\left[ \\alpha_m (1 - \\xi) + \\alpha_a \\xi \\right] \\cdot \\Delta T\n",
    "\\]\n",
    "\n",
    "donde:\n",
    "- \\( \\Delta r \\) es la expansión radial del stent.\n",
    "- \\( \\xi(T) \\) es la fracción de austenita en función de la temperatura.\n",
    "- \\( \\Delta T = T - T_0 \\), donde \\( T_0 \\) es la temperatura inicial de referencia."
   ]
  },
  {
   "cell_type": "code",
   "execution_count": null,
   "id": "53d49a1e",
   "metadata": {},
   "outputs": [],
   "source": []
  }
 ],
 "metadata": {
  "kernelspec": {
   "display_name": "Python 3 (ipykernel)",
   "language": "python",
   "name": "python3"
  },
  "language_info": {
   "codemirror_mode": {
    "name": "ipython",
    "version": 3
   },
   "file_extension": ".py",
   "mimetype": "text/x-python",
   "name": "python",
   "nbconvert_exporter": "python",
   "pygments_lexer": "ipython3",
   "version": "3.11.5"
  }
 },
 "nbformat": 4,
 "nbformat_minor": 5
}
