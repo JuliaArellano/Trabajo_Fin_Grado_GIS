{
 "cells": [
  {
   "cell_type": "markdown",
   "id": "a810a1e5",
   "metadata": {},
   "source": [
    "Expansión del stent según la temperatura "
   ]
  },
  {
   "cell_type": "markdown",
   "id": "9301fb04",
   "metadata": {},
   "source": [
    "\n",
    "## *1. Fundamentos de la Transformación de Fases en Nitinol*\n",
    "El *nitinol* es una aleación con memoria de forma que puede existir en dos fases cristalinas principales:  \n",
    "\n",
    "- *Martensita (baja temperatura, baja rigidez, deformable)*  \n",
    "- *Austenita (alta temperatura, más rígida, fase original del stent)*  \n",
    "\n",
    "La transformación entre estas fases no ocurre instantáneamente sino en un *rango de temperatura*, lo que da lugar a una fracción de transformación que varía suavemente con la temperatura."
   ]
  },
  {
   "cell_type": "code",
   "execution_count": null,
   "id": "41c16a9b",
   "metadata": {},
   "outputs": [],
   "source": []
  }
 ],
 "metadata": {
  "kernelspec": {
   "display_name": "Python 3 (ipykernel)",
   "language": "python",
   "name": "python3"
  },
  "language_info": {
   "codemirror_mode": {
    "name": "ipython",
    "version": 3
   },
   "file_extension": ".py",
   "mimetype": "text/x-python",
   "name": "python",
   "nbconvert_exporter": "python",
   "pygments_lexer": "ipython3",
   "version": "3.11.5"
  }
 },
 "nbformat": 4,
 "nbformat_minor": 5
}
