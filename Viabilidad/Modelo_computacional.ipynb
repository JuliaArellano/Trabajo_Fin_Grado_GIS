{
 "cells": [
  {
   "cell_type": "markdown",
   "id": "a810a1e5",
   "metadata": {},
   "source": [
    "Expansión del stent según la temperatura "
   ]
  },
  {
   "cell_type": "markdown",
   "id": "9301fb04",
   "metadata": {},
   "source": [
    "\n",
    "## *1. Fundamentos de la Transformación de Fases en Nitinol*\n",
    "El *nitinol* es una aleación con memoria de forma que puede existir en dos fases cristalinas principales:  \n",
    "\n",
    "- *Martensita (baja temperatura, baja rigidez, deformable)*  \n",
    "- *Austenita (alta temperatura, más rígida, fase original del stent)*  \n",
    "\n",
    "La transformación entre estas fases no ocurre instantáneamente sino en un *rango de temperatura*, lo que da lugar a una fracción de transformación que varía suavemente con la temperatura."
   ]
  },
  {
   "cell_type": "markdown",
   "id": "569463bd",
   "metadata": {},
   "source": [
    "¡Gracias por el aviso! Si estás usando **Markdown** con fórmulas en **LaTeX**, la forma de mostrar correctamente las ecuaciones depende del entorno donde estés viendo el Markdown:\n",
    "\n",
    "- **GitHub**: **no** renderiza ecuaciones LaTeX entre `\\[` y `\\]`. Solo permite `$...$` para inline math con soporte limitado.\n",
    "- **Jupyter Notebooks**, **Typora**, o plataformas con **MathJax**/**KaTeX** como Obsidian, sí renderizan `\\[` `\\]` y `$$ $$` para bloques.\n",
    "\n",
    "### Vamos a adaptar las fórmulas para que funcionen en **Markdown estándar con MathJax** o similar (por ejemplo, si usas Jupyter o un visor como Typora u Obsidian):\n",
    "\n",
    "---\n",
    "\n",
    "## *1. Fundamentos de la Transformación de Fases en Nitinol*\n",
    "\n",
    "El *nitinol* es una aleación con memoria de forma que puede existir en dos fases cristalinas principales:\n",
    "\n",
    "- *Martensita (baja temperatura, baja rigidez, deformable)*  \n",
    "- *Austenita (alta temperatura, más rígida, fase original del stent)*\n",
    "\n",
    "La transformación entre estas fases no ocurre instantáneamente sino en un *rango de temperatura*, lo que da lugar a una fracción de transformación que varía suavemente con la temperatura.\n",
    "\n",
    "### *1.1. Temperaturas Características de la Transformación*\n",
    "\n",
    "El cambio de fase en nitinol ocurre dentro de un intervalo térmico determinado por cuatro temperaturas clave:\n",
    "\n",
    "- \\( M_s \\) – Temperatura de inicio de la transformación *a martensita*  \n",
    "- \\( M_f \\) – Temperatura final de la transformación *a martensita*  \n",
    "- \\( A_s \\) – Temperatura de inicio de la transformación *a austenita*  \n",
    "- \\( A_f \\) – Temperatura final de la transformación *a austenita*  \n",
    "\n",
    "Cuando se calienta el material, la martensita se transforma en austenita en el intervalo \\( [A_s, A_f] \\).  \n",
    "Cuando se enfría, la austenita se transforma en martensita en el intervalo \\( [M_s, M_f] \\).\n",
    "\n"
   ]
  },
  {
   "cell_type": "code",
   "execution_count": null,
   "id": "53d49a1e",
   "metadata": {},
   "outputs": [],
   "source": []
  }
 ],
 "metadata": {
  "kernelspec": {
   "display_name": "Python 3 (ipykernel)",
   "language": "python",
   "name": "python3"
  },
  "language_info": {
   "codemirror_mode": {
    "name": "ipython",
    "version": 3
   },
   "file_extension": ".py",
   "mimetype": "text/x-python",
   "name": "python",
   "nbconvert_exporter": "python",
   "pygments_lexer": "ipython3",
   "version": "3.11.5"
  }
 },
 "nbformat": 4,
 "nbformat_minor": 5
}
